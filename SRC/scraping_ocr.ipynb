{
  "cells": [
    {
      "cell_type": "markdown",
      "source": [
        "# Datascraping und Optical Character Recognition"
      ],
      "metadata": {
        "id": "3BPdCtHdPj9G"
      }
    },
    {
      "cell_type": "markdown",
      "metadata": {
        "id": "Wo1tmVmfP10f"
      },
      "source": [
        "\n",
        "## Datamanagement und -scraping"
      ]
    },
    {
      "cell_type": "code",
      "execution_count": null,
      "metadata": {
        "id": "mlxN0N5l9ETY"
      },
      "outputs": [],
      "source": [
        "from google.colab import drive\n",
        "drive.mount('/content/drive')\n",
        "\n",
        "import zipfile\n",
        "import json\n",
        "import os\n",
        "import pandas as pd\n",
        "\n",
        "!pip -q install easyocr==1.2.1\n",
        "\n",
        "import easyocr\n",
        "reader = easyocr.Reader(['de','en'])"
      ]
    },
    {
      "cell_type": "code",
      "execution_count": null,
      "metadata": {
        "id": "JZjN9m1IOR8g"
      },
      "outputs": [],
      "source": [
        "four_cat_file_path = \"/content/drive/MyDrive/Projekt_Mobilisierung/Data/CSU/Kandidierende/heisl/heisl.csv\"\n",
        "\n",
        "df = pd.read_csv(four_cat_file_path, sep = \";\")"
      ]
    },
    {
      "cell_type": "code",
      "execution_count": null,
      "metadata": {
        "id": "H1kGPYdncPth"
      },
      "outputs": [],
      "source": [
        "df['timestamp'] = pd.to_datetime(df['timestamp'], format='%Y-%m-%d %H:%M:%S')\n",
        "\n",
        "start_date = '2023-03-31'\n",
        "end_date = '2023-10-09'\n",
        "\n",
        "df = df[(df['timestamp'] >= start_date) & (df['timestamp'] <= end_date)].copy()"
      ]
    },
    {
      "cell_type": "code",
      "execution_count": null,
      "metadata": {
        "id": "q1YdmZHaOWvZ"
      },
      "outputs": [],
      "source": [
        "zip_file_path = '/content/drive/MyDrive/Projekt_Mobilisierung/Data/CSU/Kandidierende/heisl/heisl.zip'\n",
        "output_zip_file_path = ''\n",
        "\n",
        "four_cat_folder = \"cat-export/\"\n",
        "\n",
        "video_path = \"media/images\"\n",
        "\n",
        "with zipfile.ZipFile(zip_file_path, 'r') as zip_ref:\n",
        "    zip_ref.extractall(four_cat_folder)\n",
        "\n",
        "print(f\"Files extracted to {four_cat_folder}\")\n",
        "\n",
        "metadata_file_path = f'{four_cat_folder}/.metadata.json'\n",
        "\n",
        "with open(metadata_file_path, 'r') as file:\n",
        "    data = json.load(file)\n",
        "\n",
        "if not os.path.exists(video_path):\n",
        "    os.makedirs(video_path)\n",
        "\n",
        "\n",
        "for item in data.values():\n",
        "    if item.get('success', False):\n",
        "        post_id = item['post_ids'][0]\n",
        "        filename = item['filename']\n",
        "        print(f\"Processing Post ID: {post_id}, Filename: {filename}\")\n",
        "        source_path = os.path.join(four_cat_folder, filename)\n",
        "        destination_path = os.path.join(video_path, f\"{post_id}.jpg\")\n",
        "        os.rename(source_path, destination_path)"
      ]
    },
    {
      "cell_type": "code",
      "source": [],
      "metadata": {
        "id": "nmgXLNmAQ2Ti"
      },
      "execution_count": null,
      "outputs": []
    },
    {
      "cell_type": "code",
      "execution_count": null,
      "metadata": {
        "id": "QiyIZ7HkPJ4j"
      },
      "outputs": [],
      "source": [
        "!zip -r /content/drive/MyDrive/Projekt_Mobilisierung/Data/CSU/Kandidierende/heisl/heisl_images_ref.zip media"
      ]
    },
    {
      "cell_type": "code",
      "execution_count": null,
      "metadata": {
        "id": "8LEBFBU88uV1"
      },
      "outputs": [],
      "source": [
        "df['image_file'] = df.apply(lambda row: f\"media/images/{row['id']}.jpg\", axis=1)"
      ]
    },
    {
      "cell_type": "code",
      "execution_count": null,
      "metadata": {
        "id": "9_r0PKi0G3OZ"
      },
      "outputs": [],
      "source": [
        "df = df[df['image_file'] != \"media/images/nan.jpg\"]"
      ]
    },
    {
      "cell_type": "markdown",
      "metadata": {
        "id": "scseC6c1RukK"
      },
      "source": [
        "## Optical Character Recognition"
      ]
    },
    {
      "cell_type": "code",
      "execution_count": null,
      "metadata": {
        "id": "V2PECNHNC_7w"
      },
      "outputs": [],
      "source": [
        "def run_ocr(image_path):\n",
        "    ocr_result = reader.readtext(image_path, detail = 0)\n",
        "    ocr_text = \" \".join(ocr_result)\n",
        "    return ocr_text\n",
        "\n",
        "df['ocr_text'] = df['image_file'].apply(run_ocr)"
      ]
    },
    {
      "cell_type": "code",
      "execution_count": null,
      "metadata": {
        "id": "enAfNoctF_bX"
      },
      "outputs": [],
      "source": [
        "df.to_csv('/content/drive/MyDrive/Projekt_Mobilisierung/Data/CSU/Kandidierende/heisl/heisl_posts_01_04-08_10_ocr.csv', index=False)"
      ]
    },
    {
      "cell_type": "code",
      "execution_count": null,
      "metadata": {
        "colab": {
          "base_uri": "https://localhost:8080/"
        },
        "id": "Dd-3ttuG1hCs",
        "outputId": "5bc9f656-5a9a-46d8-9ff2-30ab043c5ce2"
      },
      "outputs": [
        {
          "output_type": "execute_result",
          "data": {
            "text/plain": [
              "94"
            ]
          },
          "metadata": {},
          "execution_count": 13
        }
      ],
      "source": [
        "len(df)"
      ]
    },
    {
      "cell_type": "markdown",
      "metadata": {
        "id": "9rjzt9cYToa9"
      },
      "source": [
        "## Datasaving"
      ]
    },
    {
      "cell_type": "code",
      "execution_count": null,
      "metadata": {
        "colab": {
          "base_uri": "https://localhost:8080/"
        },
        "id": "tyWle33CcIPM",
        "outputId": "f90b1685-d790-488f-a18b-9189bdf73e72"
      },
      "outputs": [
        {
          "output_type": "stream",
          "name": "stdout",
          "text": [
            "Extraktion abgeschlossen. Die extrahierten Dateien befinden sich im Zip-Ordner: /content/drive/MyDrive/Projekt_Mobilisierung/FW/Kandidierende/piazolo/piazolo_images_final.zip\n"
          ]
        }
      ],
      "source": [
        "original_zip_path = '/content/drive/MyDrive/Projekt_Mobilisierung/Data/CSU/Kandidierende/heisl/heisl_images_ref.zip'\n",
        "output_zip_path = '/content/drive/MyDrive/Projekt_Mobilisierung/Data/CSU/Kandidierende/heisl/heisl_images_final.zip'\n",
        "output_folder = '/content/drive/MyDrive/Projekt_Mobilisierung/Data/CSU/Kandidierende/heisl/heisl_images_final'\n",
        "\n",
        "os.makedirs(output_folder, exist_ok=True)\n",
        "\n",
        "for filename in df['id']:\n",
        "    file_path_in_zip = f\"media/images/{filename}.jpg\"\n",
        "    output_file_path = os.path.join(output_folder, f\"{filename}.jpg\")\n",
        "\n",
        "    with zipfile.ZipFile(original_zip_path, 'r') as zip_ref:\n",
        "        with zip_ref.open(file_path_in_zip) as source, open(output_file_path, 'wb') as target:\n",
        "            target.write(source.read())\n",
        "\n",
        "with zipfile.ZipFile(output_zip_path, 'w') as zipf:\n",
        "    for root, _, files in os.walk(output_folder):\n",
        "        for file in files:\n",
        "            file_path = os.path.join(root, file)\n",
        "            zipf.write(file_path, os.path.relpath(file_path, output_folder))\n",
        "\n",
        "os.remove(original_zip_path)\n",
        "\n",
        "print(\"Extraktion abgeschlossen. Die extrahierten Dateien befinden sich im Zip-Ordner:\", output_zip_path)"
      ]
    },
    {
      "cell_type": "markdown",
      "source": [
        "Quellen:\n",
        "\n",
        "Achmann-Denkler, M. (2024). michaelachmann/social-media-lab: DOI Release (v0.0.12). Zenodo. https://doi.org/10.5281/zenodo.10618621\n",
        "\n",
        "Achmann-Denkler, M. (2023). “OCR.” November 27, 2023. https://doi.org/10.5281/zenodo.10039756.\n",
        "\n",
        "Peeters, S. (2023). Zeeschuimer (v1.8.0). Zenodo. https://doi.org/10.5281/zenodo.8399900.\n",
        "\n",
        "Peeters, S., Hagen, S., & Wahl D. (2023). 4CAT Capture and Analysis Toolkit (v1.36). Zenodo. https://doi.org/10.5281/zenodo.8139174.\n"
      ],
      "metadata": {
        "id": "SDQuBHcpWQBr"
      }
    }
  ],
  "metadata": {
    "accelerator": "GPU",
    "colab": {
      "gpuType": "T4",
      "provenance": []
    },
    "kernelspec": {
      "display_name": "Python 3",
      "name": "python3"
    },
    "language_info": {
      "name": "python"
    }
  },
  "nbformat": 4,
  "nbformat_minor": 0
}