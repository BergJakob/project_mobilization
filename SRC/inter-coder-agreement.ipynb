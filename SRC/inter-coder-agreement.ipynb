{
  "nbformat": 4,
  "nbformat_minor": 0,
  "metadata": {
    "colab": {
      "provenance": []
    },
    "kernelspec": {
      "name": "python3",
      "display_name": "Python 3"
    },
    "language_info": {
      "name": "python"
    }
  },
  "cells": [
    {
      "cell_type": "markdown",
      "source": [
        "# Berechnung Inter-Coder-Agreement"
      ],
      "metadata": {
        "id": "dZ2bmG3YXtN_"
      }
    },
    {
      "cell_type": "code",
      "source": [
        "!pip install pandas scikit-learn openpyxl"
      ],
      "metadata": {
        "colab": {
          "base_uri": "https://localhost:8080/"
        },
        "id": "hGdNlZ5HC3od",
        "outputId": "b788c7a3-a8b6-43ca-b11e-5f092a41178b"
      },
      "execution_count": null,
      "outputs": [
        {
          "output_type": "stream",
          "name": "stdout",
          "text": [
            "Requirement already satisfied: pandas in /usr/local/lib/python3.10/dist-packages (2.0.3)\n",
            "Requirement already satisfied: scikit-learn in /usr/local/lib/python3.10/dist-packages (1.2.2)\n",
            "Requirement already satisfied: openpyxl in /usr/local/lib/python3.10/dist-packages (3.1.5)\n",
            "Requirement already satisfied: python-dateutil>=2.8.2 in /usr/local/lib/python3.10/dist-packages (from pandas) (2.8.2)\n",
            "Requirement already satisfied: pytz>=2020.1 in /usr/local/lib/python3.10/dist-packages (from pandas) (2023.4)\n",
            "Requirement already satisfied: tzdata>=2022.1 in /usr/local/lib/python3.10/dist-packages (from pandas) (2024.1)\n",
            "Requirement already satisfied: numpy>=1.21.0 in /usr/local/lib/python3.10/dist-packages (from pandas) (1.25.2)\n",
            "Requirement already satisfied: scipy>=1.3.2 in /usr/local/lib/python3.10/dist-packages (from scikit-learn) (1.11.4)\n",
            "Requirement already satisfied: joblib>=1.1.1 in /usr/local/lib/python3.10/dist-packages (from scikit-learn) (1.4.2)\n",
            "Requirement already satisfied: threadpoolctl>=2.0.0 in /usr/local/lib/python3.10/dist-packages (from scikit-learn) (3.5.0)\n",
            "Requirement already satisfied: et-xmlfile in /usr/local/lib/python3.10/dist-packages (from openpyxl) (1.1.0)\n",
            "Requirement already satisfied: six>=1.5 in /usr/local/lib/python3.10/dist-packages (from python-dateutil>=2.8.2->pandas) (1.16.0)\n"
          ]
        }
      ]
    },
    {
      "cell_type": "code",
      "source": [
        "import pandas as pd\n",
        "import os\n",
        "from google.colab import drive\n",
        "drive.mount('/content/drive')"
      ],
      "metadata": {
        "colab": {
          "base_uri": "https://localhost:8080/"
        },
        "id": "5jCwK4HzCMpu",
        "outputId": "3cd65d68-2b04-4004-d6ad-5db25183c1a0"
      },
      "execution_count": null,
      "outputs": [
        {
          "output_type": "stream",
          "name": "stdout",
          "text": [
            "Mounted at /content/drive\n"
          ]
        }
      ]
    },
    {
      "cell_type": "code",
      "source": [
        "import pandas as pd\n",
        "from statsmodels.stats.inter_rater import fleiss_kappa\n",
        "\n",
        "df1 = pd.read_csv('/content/drive/MyDrive/Projekt_Mobilisierung/Data/anno_sample_df_1.csv', sep=';')\n",
        "df2 = pd.read_csv('/content/drive/MyDrive/Projekt_Mobilisierung/Data/anno_sample_df_2.csv', sep=';')\n",
        "df3 = pd.read_csv('/content/drive/MyDrive/Projekt_Mobilisierung/Data/anno_sample_df_3.csv', sep=';')\n",
        "\n",
        "# Spalten 1 bis 12 und Spalte 99 auswählen\n",
        "columns_to_compare = list(range(1, 13)) + [99]\n",
        "\n",
        "# Fleiss' Kappa für jede Spalte berechnen und Ergebnisse speichern\n",
        "fleiss_kappa_scores = {}\n",
        "\n",
        "for col in columns_to_compare:\n",
        "    col_name = str(col)\n",
        "    if col_name in df1.columns and col_name in df2.columns and col_name in df3.columns:\n",
        "        # Die Daten in einer Tabelle zusammenführen\n",
        "        ratings = pd.DataFrame({\n",
        "            'rater1': df1[col_name].astype(str),\n",
        "            'rater2': df2[col_name].astype(str),\n",
        "            'rater3': df3[col_name].astype(str)\n",
        "        })\n",
        "\n",
        "        # Daten in das Format für Fleiss' Kappa umwandeln\n",
        "        table = pd.crosstab(index=ratings.index, columns=[ratings.rater1, ratings.rater2, ratings.rater3])\n",
        "        table = table.reindex(columns=sorted(table.columns), fill_value=0)\n",
        "\n",
        "        # Fleiss' Kappa berechnen\n",
        "        kappa = fleiss_kappa(table.values)\n",
        "        fleiss_kappa_scores[col_name] = kappa\n",
        "\n",
        "# Ergebnisse anzeigen\n",
        "fleiss_kappa_scores\n"
      ],
      "metadata": {
        "id": "TZNfA-l546IK"
      },
      "execution_count": null,
      "outputs": []
    }
  ]
}